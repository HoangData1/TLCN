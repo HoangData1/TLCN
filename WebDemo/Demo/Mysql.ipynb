{
 "cells": [
  {
   "cell_type": "markdown",
   "metadata": {},
   "source": [
    "Load dữ liệu lên bằng thư viện pandas"
   ]
  },
  {
   "cell_type": "code",
   "execution_count": 21,
   "metadata": {},
   "outputs": [
    {
     "data": {
      "text/html": [
       "<div>\n",
       "<style scoped>\n",
       "    .dataframe tbody tr th:only-of-type {\n",
       "        vertical-align: middle;\n",
       "    }\n",
       "\n",
       "    .dataframe tbody tr th {\n",
       "        vertical-align: top;\n",
       "    }\n",
       "\n",
       "    .dataframe thead th {\n",
       "        text-align: right;\n",
       "    }\n",
       "</style>\n",
       "<table border=\"1\" class=\"dataframe\">\n",
       "  <thead>\n",
       "    <tr style=\"text-align: right;\">\n",
       "      <th></th>\n",
       "      <th>name</th>\n",
       "      <th>main_category</th>\n",
       "      <th>sub_category</th>\n",
       "      <th>image</th>\n",
       "      <th>link</th>\n",
       "      <th>ratings</th>\n",
       "      <th>no_of_ratings</th>\n",
       "      <th>discount_price</th>\n",
       "      <th>actual_price</th>\n",
       "    </tr>\n",
       "  </thead>\n",
       "  <tbody>\n",
       "    <tr>\n",
       "      <th>0</th>\n",
       "      <td>Jaspo Kidzyy Steel Badminton Racquet with 6pc....</td>\n",
       "      <td>sports &amp; fitness</td>\n",
       "      <td>Badminton</td>\n",
       "      <td>https://m.media-amazon.com/images/I/816z1d69TW...</td>\n",
       "      <td>https://www.amazon.in/Kidzyy-Badminton-Racquet...</td>\n",
       "      <td>3.4</td>\n",
       "      <td>3</td>\n",
       "      <td>₹426</td>\n",
       "      <td>₹800</td>\n",
       "    </tr>\n",
       "    <tr>\n",
       "      <th>1</th>\n",
       "      <td>Klapp Double Shaft Badminton Rackets, with 20 ...</td>\n",
       "      <td>sports &amp; fitness</td>\n",
       "      <td>Badminton</td>\n",
       "      <td>https://m.media-amazon.com/images/I/71UA11w-Ci...</td>\n",
       "      <td>https://www.amazon.in/Klapp-Double-Badminton-R...</td>\n",
       "      <td>3.8</td>\n",
       "      <td>172</td>\n",
       "      <td>₹649</td>\n",
       "      <td>₹1,899</td>\n",
       "    </tr>\n",
       "    <tr>\n",
       "      <th>2</th>\n",
       "      <td>Asics Gel-Courtmov+ Men's Badminton Shoe - Azu...</td>\n",
       "      <td>sports &amp; fitness</td>\n",
       "      <td>Badminton</td>\n",
       "      <td>https://m.media-amazon.com/images/I/61oMT8Ddsa...</td>\n",
       "      <td>https://www.amazon.in/Asics-Gel-Courtmov-Mens-...</td>\n",
       "      <td>NaN</td>\n",
       "      <td>NaN</td>\n",
       "      <td>₹3,219</td>\n",
       "      <td>₹3,799</td>\n",
       "    </tr>\n",
       "    <tr>\n",
       "      <th>3</th>\n",
       "      <td>FEROC Fighter Aluminum Badminton Racquet Set o...</td>\n",
       "      <td>sports &amp; fitness</td>\n",
       "      <td>Badminton</td>\n",
       "      <td>https://m.media-amazon.com/images/I/6151mW348F...</td>\n",
       "      <td>https://www.amazon.in/Fighter-Aluminum-Badmint...</td>\n",
       "      <td>3.5</td>\n",
       "      <td>933</td>\n",
       "      <td>₹349</td>\n",
       "      <td>₹699</td>\n",
       "    </tr>\n",
       "    <tr>\n",
       "      <th>4</th>\n",
       "      <td>Amazon Brand - Symactive Badminton Kit with 2 ...</td>\n",
       "      <td>sports &amp; fitness</td>\n",
       "      <td>Badminton</td>\n",
       "      <td>https://m.media-amazon.com/images/I/812D6PJq1L...</td>\n",
       "      <td>https://www.amazon.in/Amazon-Brand-Symactive-S...</td>\n",
       "      <td>3.8</td>\n",
       "      <td>36</td>\n",
       "      <td>₹619</td>\n",
       "      <td>₹1,179</td>\n",
       "    </tr>\n",
       "  </tbody>\n",
       "</table>\n",
       "</div>"
      ],
      "text/plain": [
       "                                                name     main_category  \\\n",
       "0  Jaspo Kidzyy Steel Badminton Racquet with 6pc....  sports & fitness   \n",
       "1  Klapp Double Shaft Badminton Rackets, with 20 ...  sports & fitness   \n",
       "2  Asics Gel-Courtmov+ Men's Badminton Shoe - Azu...  sports & fitness   \n",
       "3  FEROC Fighter Aluminum Badminton Racquet Set o...  sports & fitness   \n",
       "4  Amazon Brand - Symactive Badminton Kit with 2 ...  sports & fitness   \n",
       "\n",
       "  sub_category                                              image  \\\n",
       "0    Badminton  https://m.media-amazon.com/images/I/816z1d69TW...   \n",
       "1    Badminton  https://m.media-amazon.com/images/I/71UA11w-Ci...   \n",
       "2    Badminton  https://m.media-amazon.com/images/I/61oMT8Ddsa...   \n",
       "3    Badminton  https://m.media-amazon.com/images/I/6151mW348F...   \n",
       "4    Badminton  https://m.media-amazon.com/images/I/812D6PJq1L...   \n",
       "\n",
       "                                                link ratings no_of_ratings  \\\n",
       "0  https://www.amazon.in/Kidzyy-Badminton-Racquet...     3.4             3   \n",
       "1  https://www.amazon.in/Klapp-Double-Badminton-R...     3.8           172   \n",
       "2  https://www.amazon.in/Asics-Gel-Courtmov-Mens-...     NaN           NaN   \n",
       "3  https://www.amazon.in/Fighter-Aluminum-Badmint...     3.5           933   \n",
       "4  https://www.amazon.in/Amazon-Brand-Symactive-S...     3.8            36   \n",
       "\n",
       "  discount_price actual_price  \n",
       "0           ₹426         ₹800  \n",
       "1           ₹649       ₹1,899  \n",
       "2         ₹3,219       ₹3,799  \n",
       "3           ₹349         ₹699  \n",
       "4           ₹619       ₹1,179  "
      ]
     },
     "execution_count": 21,
     "metadata": {},
     "output_type": "execute_result"
    }
   ],
   "source": [
    "import pandas as pd\n",
    "df = pd.read_csv('Badminton.csv')\n",
    "df.head()"
   ]
  },
  {
   "cell_type": "markdown",
   "metadata": {},
   "source": [
    "Lấy các cột cần thiết để đổ về Mysql"
   ]
  },
  {
   "cell_type": "code",
   "execution_count": 22,
   "metadata": {},
   "outputs": [
    {
     "data": {
      "text/html": [
       "<div>\n",
       "<style scoped>\n",
       "    .dataframe tbody tr th:only-of-type {\n",
       "        vertical-align: middle;\n",
       "    }\n",
       "\n",
       "    .dataframe tbody tr th {\n",
       "        vertical-align: top;\n",
       "    }\n",
       "\n",
       "    .dataframe thead th {\n",
       "        text-align: right;\n",
       "    }\n",
       "</style>\n",
       "<table border=\"1\" class=\"dataframe\">\n",
       "  <thead>\n",
       "    <tr style=\"text-align: right;\">\n",
       "      <th></th>\n",
       "      <th>name</th>\n",
       "      <th>main_category</th>\n",
       "      <th>sub_category</th>\n",
       "      <th>ratings</th>\n",
       "      <th>actual_price</th>\n",
       "    </tr>\n",
       "  </thead>\n",
       "  <tbody>\n",
       "    <tr>\n",
       "      <th>0</th>\n",
       "      <td>Jaspo Kidzyy Steel Badminton Racquet with 6pc....</td>\n",
       "      <td>sports &amp; fitness</td>\n",
       "      <td>Badminton</td>\n",
       "      <td>3.4</td>\n",
       "      <td>₹800</td>\n",
       "    </tr>\n",
       "    <tr>\n",
       "      <th>1</th>\n",
       "      <td>Klapp Double Shaft Badminton Rackets, with 20 ...</td>\n",
       "      <td>sports &amp; fitness</td>\n",
       "      <td>Badminton</td>\n",
       "      <td>3.8</td>\n",
       "      <td>₹1,899</td>\n",
       "    </tr>\n",
       "    <tr>\n",
       "      <th>2</th>\n",
       "      <td>Asics Gel-Courtmov+ Men's Badminton Shoe - Azu...</td>\n",
       "      <td>sports &amp; fitness</td>\n",
       "      <td>Badminton</td>\n",
       "      <td>NaN</td>\n",
       "      <td>₹3,799</td>\n",
       "    </tr>\n",
       "    <tr>\n",
       "      <th>3</th>\n",
       "      <td>FEROC Fighter Aluminum Badminton Racquet Set o...</td>\n",
       "      <td>sports &amp; fitness</td>\n",
       "      <td>Badminton</td>\n",
       "      <td>3.5</td>\n",
       "      <td>₹699</td>\n",
       "    </tr>\n",
       "    <tr>\n",
       "      <th>4</th>\n",
       "      <td>Amazon Brand - Symactive Badminton Kit with 2 ...</td>\n",
       "      <td>sports &amp; fitness</td>\n",
       "      <td>Badminton</td>\n",
       "      <td>3.8</td>\n",
       "      <td>₹1,179</td>\n",
       "    </tr>\n",
       "  </tbody>\n",
       "</table>\n",
       "</div>"
      ],
      "text/plain": [
       "                                                name     main_category  \\\n",
       "0  Jaspo Kidzyy Steel Badminton Racquet with 6pc....  sports & fitness   \n",
       "1  Klapp Double Shaft Badminton Rackets, with 20 ...  sports & fitness   \n",
       "2  Asics Gel-Courtmov+ Men's Badminton Shoe - Azu...  sports & fitness   \n",
       "3  FEROC Fighter Aluminum Badminton Racquet Set o...  sports & fitness   \n",
       "4  Amazon Brand - Symactive Badminton Kit with 2 ...  sports & fitness   \n",
       "\n",
       "  sub_category ratings actual_price  \n",
       "0    Badminton     3.4         ₹800  \n",
       "1    Badminton     3.8       ₹1,899  \n",
       "2    Badminton     NaN       ₹3,799  \n",
       "3    Badminton     3.5         ₹699  \n",
       "4    Badminton     3.8       ₹1,179  "
      ]
     },
     "execution_count": 22,
     "metadata": {},
     "output_type": "execute_result"
    }
   ],
   "source": [
    "data=df.loc[:,['name', 'main_category', 'sub_category','ratings', 'actual_price']]\n",
    "data.head()\n"
   ]
  },
  {
   "cell_type": "code",
   "execution_count": 23,
   "metadata": {},
   "outputs": [
    {
     "data": {
      "text/plain": [
       "name             object\n",
       "main_category    object\n",
       "sub_category     object\n",
       "ratings          object\n",
       "actual_price     object\n",
       "dtype: object"
      ]
     },
     "execution_count": 23,
     "metadata": {},
     "output_type": "execute_result"
    }
   ],
   "source": [
    "data.dtypes"
   ]
  },
  {
   "cell_type": "markdown",
   "metadata": {},
   "source": [
    "Kết nối tới mysql thông qua libs mysql.conector"
   ]
  },
  {
   "cell_type": "code",
   "execution_count": 28,
   "metadata": {},
   "outputs": [
    {
     "name": "stdout",
     "output_type": "stream",
     "text": [
      "Table is created or already exists....\n"
     ]
    }
   ],
   "source": [
    "import mysql.connector as msql\n",
    "# Thay các giá trị này bằng thông tin kết nối của bạn\n",
    "conn = msql.connect(host='172.16.30.103', port=3306, user='hoang2',\n",
    "                        password='Hoang@123', database='amazon')\n",
    "cursor = conn.cursor()\n",
    "# Tạo bảng để dữ liệu được mapping về bảng sau:\n",
    "cursor.execute(\"CREATE TABLE IF NOT EXISTS badminton (id INT AUTO_INCREMENT, name TEXT, main_category TEXT, sub_category TEXT, ratings TEXT,actual_price TEXT, PRIMARY KEY (id));\")\n",
    "print(\"Table is created or already exists....\")"
   ]
  },
  {
   "cell_type": "markdown",
   "metadata": {},
   "source": [
    "Insert dữ liệu vào bảng đã được,chia dữ liệu thành các lộ để tránh việc cao tải"
   ]
  },
  {
   "cell_type": "code",
   "execution_count": 25,
   "metadata": {},
   "outputs": [],
   "source": [
    "# Chuyển dữ liệu từ DataFrame thành danh sách các tuples\n",
    "data_to_insert = [tuple(x) for x in data.to_numpy()]\n",
    "\n",
    "# Chia dữ liệu thành các lô (batches) của 200 dòng và chèn vào cơ sở dữ liệu\n",
    "batch_size = 200\n",
    "for i in range(0, len(data_to_insert), batch_size):\n",
    "    batch = data_to_insert[i:i + batch_size]\n",
    "    sql = \"INSERT INTO badminton (name, main_category, sub_category, ratings, actual_price) VALUES (%s, %s, %s, %s, %s) ON DUPLICATE KEY UPDATE name=name\"  # Thay đổi phần ON DUPLICATE KEY UPDATE nếu cần\n",
    "    cursor.executemany(sql, batch)\n",
    "\n",
    "# Lưu thay đổi và đóng kết nối\n",
    "conn.commit()\n",
    "conn.close()"
   ]
  }
 ],
 "metadata": {
  "kernelspec": {
   "display_name": "Python 3",
   "language": "python",
   "name": "python3"
  },
  "language_info": {
   "codemirror_mode": {
    "name": "ipython",
    "version": 3
   },
   "file_extension": ".py",
   "mimetype": "text/x-python",
   "name": "python",
   "nbconvert_exporter": "python",
   "pygments_lexer": "ipython3",
   "version": "3.9.13"
  }
 },
 "nbformat": 4,
 "nbformat_minor": 2
}
